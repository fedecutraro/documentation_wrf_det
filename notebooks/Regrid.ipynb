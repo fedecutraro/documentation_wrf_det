{
 "cells": [
  {
   "cell_type": "markdown",
   "id": "2d857022",
   "metadata": {},
   "source": [
    "# Interpolación a retícula regular"
   ]
  },
  {
   "cell_type": "markdown",
   "id": "138fa71b",
   "metadata": {},
   "source": [
    "En esta notebook se da un ejemplo de cómo transformar los datos que se  encuentran e proyección Conforme de Lambert a una retícula regular"
   ]
  },
  {
   "cell_type": "code",
   "execution_count": 1,
   "id": "f6bd0056",
   "metadata": {},
   "outputs": [],
   "source": [
    "import xarray as xr\n",
    "import h5netcdf\n",
    "import datetime\n",
    "import s3fs\n",
    "import xesmf as xe"
   ]
  },
  {
   "cell_type": "markdown",
   "id": "47b460d9",
   "metadata": {},
   "source": [
    "Se define la fecha de inicialización y de validez del pronóstico a interpolar"
   ]
  },
  {
   "cell_type": "code",
   "execution_count": 3,
   "id": "3ace92d0",
   "metadata": {},
   "outputs": [],
   "source": [
    "año_ini = 2022\n",
    "mes_ini = 3\n",
    "dia_ini = 21\n",
    "hora_ini = 0\n",
    "\n",
    "año_fcst = 2022\n",
    "mes_fcst = 3\n",
    "dia_fcst = 22\n",
    "hora_fcst = 17"
   ]
  },
  {
   "cell_type": "markdown",
   "id": "243b48fe",
   "metadata": {},
   "source": [
    "Se lee el archivo que posee el dato buscado"
   ]
  },
  {
   "cell_type": "code",
   "execution_count": 4,
   "id": "cc21a1dc",
   "metadata": {},
   "outputs": [],
   "source": [
    "FECHA_INI = datetime.datetime(año_ini, mes_ini, dia_ini, hora_ini)\n",
    "FECHA_FCST = datetime.datetime(año_fcst, mes_fcst, dia_fcst, hora_fcst)\n",
    "\n",
    "#Plazo de pronóstico\n",
    "plazo = int((FECHA_FCST - FECHA_INI).total_seconds()/3600)\n",
    "\n",
    "s3_file = f'smn-ar-wrf/DATA/WRF/DET/{FECHA_INI:%Y/%m/%d/%H}/WRFDETAR_01H_{FECHA_INI:%Y%m%d_%H}_{plazo:03d}.nc'\n",
    "\n",
    "fs = s3fs.S3FileSystem(anon=True)\n",
    "\n",
    "if fs.exists(s3_file):\n",
    "    f = fs.open(s3_file)\n",
    "    ds = xr.open_dataset(f, decode_coords = 'all', engine = 'h5netcdf')\n",
    "else:\n",
    "    print('El archivo buscado no existe')"
   ]
  },
  {
   "cell_type": "markdown",
   "id": "69efd6c5",
   "metadata": {},
   "source": [
    "Se define la retícula a la que se quiere interpolar"
   ]
  },
  {
   "cell_type": "code",
   "execution_count": 6,
   "id": "35dcf23f",
   "metadata": {},
   "outputs": [],
   "source": [
    "resolucion_lat = 0.1\n",
    "resolucion_lon = 0.1\n",
    "lat_min = -56\n",
    "lat_max = -19\n",
    "lon_min = -76\n",
    "lon_max = -48\n",
    "\n",
    "nueva_reticula = xe.util.grid_2d(lon_min - resolucion_lon/2, lon_max, resolucion_lon, \n",
    "                                 lat_min - resolucion_lat/2, lat_max, resolucion_lat)\n"
   ]
  },
  {
   "cell_type": "markdown",
   "id": "f5bad046",
   "metadata": {},
   "source": [
    "Se realiza la interpolación"
   ]
  },
  {
   "cell_type": "code",
   "execution_count": 7,
   "id": "cdbdfa57",
   "metadata": {},
   "outputs": [],
   "source": [
    "regridder = xe.Regridder(ds, nueva_reticula, 'bilinear')\n",
    "ds_interpolado = regridder(ds, keep_attrs = True)"
   ]
  }
 ],
 "metadata": {
  "kernelspec": {
   "display_name": "Python 3 (ipykernel)",
   "language": "python",
   "name": "python3"
  },
  "language_info": {
   "codemirror_mode": {
    "name": "ipython",
    "version": 3
   },
   "file_extension": ".py",
   "mimetype": "text/x-python",
   "name": "python",
   "nbconvert_exporter": "python",
   "pygments_lexer": "ipython3",
   "version": "3.9.11"
  }
 },
 "nbformat": 4,
 "nbformat_minor": 5
}
